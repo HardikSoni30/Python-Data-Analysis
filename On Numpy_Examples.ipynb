{
 "cells": [
  {
   "cell_type": "code",
   "execution_count": 1,
   "metadata": {},
   "outputs": [
    {
     "data": {
      "text/plain": [
       "'3.7.2'"
      ]
     },
     "execution_count": 1,
     "metadata": {},
     "output_type": "execute_result"
    }
   ],
   "source": [
    "import platform\n",
    "platform.python_version()"
   ]
  },
  {
   "cell_type": "code",
   "execution_count": 2,
   "metadata": {},
   "outputs": [
    {
     "name": "stdout",
     "output_type": "stream",
     "text": [
      "NumPy Version: 1.15.4\n"
     ]
    }
   ],
   "source": [
    "import numpy as np\n",
    "print(\"NumPy Version:\",np.__version__)"
   ]
  },
  {
   "cell_type": "code",
   "execution_count": 3,
   "metadata": {},
   "outputs": [],
   "source": [
    "from tabulate import tabulate"
   ]
  },
  {
   "cell_type": "markdown",
   "metadata": {},
   "source": [
    "# Use Case Vectorization:\n",
    "\n",
    "Consider, the expression\n",
    "\\begin{equation}\n",
    "S =\\sum\\limits_{k=0}^{100}{\\sqrt{\\frac{k\\pi }{100}}\\sin }\\left( \\frac{k\\pi }{100} \\right)\n",
    "\\end{equation}\n",
    "\n",
    "The direct approach is to evaluate the sum in a loop, resulting in the following *scalar* code:"
   ]
  },
  {
   "cell_type": "code",
   "execution_count": 4,
   "metadata": {},
   "outputs": [
    {
     "name": "stdout",
     "output_type": "stream",
     "text": [
      "77.51389798916522\n"
     ]
    }
   ],
   "source": [
    "from math import sqrt, sin, pi\n",
    "x, S = 0.0, 0.0\n",
    "for k in range(101):\n",
    "    S += sqrt(x) * sin(x)\n",
    "    x += 0.01*pi\n",
    "print(S)"
   ]
  },
  {
   "cell_type": "code",
   "execution_count": 5,
   "metadata": {},
   "outputs": [
    {
     "name": "stdout",
     "output_type": "stream",
     "text": [
      "77.5138979891651\n"
     ]
    }
   ],
   "source": [
    "# Using list comprehension\n",
    "x1 = [k*0.01*pi for k in range(101)]\n",
    "S1 = [sqrt(y)*sin(y) for y in x1]\n",
    "print(sum(S1))"
   ]
  },
  {
   "cell_type": "code",
   "execution_count": 6,
   "metadata": {},
   "outputs": [
    {
     "name": "stdout",
     "output_type": "stream",
     "text": [
      "77.51389798916512\n"
     ]
    }
   ],
   "source": [
    "# The vectorized version of the algorithm is\n",
    "x = np.linspace(0, np.pi, 101)\n",
    "# x = np.r_[0:np.pi+0.01:0.01*np.pi]\n",
    "S = np.add.reduce(np.sqrt(x)*np.sin(x))\n",
    "print(S)"
   ]
  },
  {
   "cell_type": "markdown",
   "metadata": {},
   "source": [
    "# Use Case np.where():\n",
    "\n",
    "$\n",
    "    U\\left( x \\right)=\\left\\{ \\begin{align}\n",
    "      & \\frac{b-x}{b-a},\\text{ if }a\\le x\\le b \\\\ \n",
    "     & 0,\\text{       otherwise} \\\\ \n",
    "    \\end{align} \\right.\n",
    "$\n",
    "\n",
    "In usual way, the code of the function is:\n",
    "\n",
    "```python\n",
    "def U(x, a, b):\n",
    "    for val in x:\n",
    "        if a <= val <= b:\n",
    "            return (b-x)/(b-a)\n",
    "        else:\n",
    "            return 0\n",
    "```     "
   ]
  },
  {
   "cell_type": "code",
   "execution_count": 7,
   "metadata": {},
   "outputs": [],
   "source": [
    "def U(x,a,b):\n",
    "    return np.where(np.logical_and(x >= a, x <= b), (b-x)/(b-a), 0)"
   ]
  },
  {
   "cell_type": "code",
   "execution_count": 8,
   "metadata": {},
   "outputs": [],
   "source": [
    "def U1(x, a, b):    \n",
    "    return np.where((x >= a) & (x <= b), (b-x)/(b-a), 0)"
   ]
  },
  {
   "cell_type": "code",
   "execution_count": 9,
   "metadata": {},
   "outputs": [
    {
     "data": {
      "text/plain": [
       "array([ 6.99014246,  5.0852071 ,  7.44306561, 10.06908957,  4.79753988])"
      ]
     },
     "execution_count": 9,
     "metadata": {},
     "output_type": "execute_result"
    }
   ],
   "source": [
    "np.random.seed(42)\n",
    "y = np.random.normal(5.5, 3, size=5)\n",
    "y"
   ]
  },
  {
   "cell_type": "code",
   "execution_count": 10,
   "metadata": {},
   "outputs": [
    {
     "name": "stdout",
     "output_type": "stream",
     "text": [
      "╒══════════╤══════════╤══════════╕\n",
      "│        y │     U(y) │    U1(y) │\n",
      "╞══════════╪══════════╪══════════╡\n",
      "│  6.99014 │ 0        │ 0        │\n",
      "├──────────┼──────────┼──────────┤\n",
      "│  5.08521 │ 0.707396 │ 0.707396 │\n",
      "├──────────┼──────────┼──────────┤\n",
      "│  7.44307 │ 0        │ 0        │\n",
      "├──────────┼──────────┼──────────┤\n",
      "│ 10.0691  │ 0        │ 0        │\n",
      "├──────────┼──────────┼──────────┤\n",
      "│  4.79754 │ 0.85123  │ 0.85123  │\n",
      "╘══════════╧══════════╧══════════╛\n"
     ]
    }
   ],
   "source": [
    "headers = [\"y\", \"U(y)\", \"U1(y)\"]\n",
    "table = tabulate(np.c_[y, U(y, 4.5, 6.5), U1(y, 4.5, 6.5)], \n",
    "    headers, tablefmt=\"fancy_grid\")\n",
    "print(table)"
   ]
  },
  {
   "cell_type": "markdown",
   "metadata": {},
   "source": [
    "# Performing Coin flips simulation\n",
    "\n",
    "- Assign 0 as tails and 1 as heads. So flippling one coin is given as:"
   ]
  },
  {
   "cell_type": "code",
   "execution_count": 11,
   "metadata": {},
   "outputs": [
    {
     "data": {
      "text/plain": [
       "array([0])"
      ]
     },
     "execution_count": 11,
     "metadata": {},
     "output_type": "execute_result"
    }
   ],
   "source": [
    "rand = np.random.RandomState(42)\n",
    "rand.randint(low=0, high=2, size=1)"
   ]
  },
  {
   "cell_type": "code",
   "execution_count": 12,
   "metadata": {},
   "outputs": [
    {
     "name": "stdout",
     "output_type": "stream",
     "text": [
      "[1 0 0 0 1 0 0 0 1 0]\n",
      "3\n"
     ]
    }
   ],
   "source": [
    "# throwing a coin 10 times: 0 is tail, 1 heads\n",
    "experiment = rand.randint(0,2, size=10)\n",
    "print(experiment)\n",
    "print(experiment.sum())"
   ]
  },
  {
   "cell_type": "markdown",
   "metadata": {},
   "source": [
    "Let's continue this experiment, many times, say 1,000 times, to find out the distribution of the number of heads when throwing 10 coins at a time.  \n",
    "\n",
    "In fact, it follows Binomial distribution with mean $np$ and variance $np(1-p)$. \n",
    "In this case, $n = 10$ and $p = 0.5$\n",
    "\n",
    "**Binomial Distribution:**\n",
    "\\begin{equation}\n",
    "P\\left( X=r \\right){{=}_{n}}{{c}_{r}}{{p}^{r}}{{\\left( 1-p \\right)}^{n-r}}\n",
    "\\end{equation}\n",
    "\n",
    "**Expected Frequency:**\n",
    "\n",
    "\\begin{equation}\n",
    " N \\times P\\left( X=r \\right)\n",
    "\\end{equation}"
   ]
  },
  {
   "cell_type": "code",
   "execution_count": 13,
   "metadata": {},
   "outputs": [
    {
     "data": {
      "text/plain": [
       "array([[0, 0, 0, 1, 0, 1, 1, 1, 0, 1],\n",
       "       [0, 1, 1, 1, 1, 1, 1, 1, 1, 0],\n",
       "       [0, 1, 1, 1, 0, 1, 0, 0, 0, 0],\n",
       "       [0, 1, 1, 1, 1, 1, 0, 1, 1, 0],\n",
       "       [1, 0, 1, 0, 1, 1, 0, 0, 0, 0]])"
      ]
     },
     "execution_count": 13,
     "metadata": {},
     "output_type": "execute_result"
    }
   ],
   "source": [
    "#Each column of this matrix will be one 10-tosses simulation\n",
    "coin_matrix = rand.randint(0,2,size=(1000,10)) \n",
    "coin_matrix[:5,:]"
   ]
  },
  {
   "cell_type": "markdown",
   "metadata": {},
   "source": [
    "Here, the first five rows are the first five results of the 10 coins that we flip out of the 1,000 results that are in the actual matrix with 1,000 rows.\n",
    "\n",
    "To calculate how many heads we got in every experiment, we have to sum all the rows."
   ]
  },
  {
   "cell_type": "code",
   "execution_count": 14,
   "metadata": {},
   "outputs": [
    {
     "name": "stdout",
     "output_type": "stream",
     "text": [
      "(1000,)\n",
      "[5 8 4 7 4 5 6 6 8 9 6 6 1 4 3 6 3 3 3 5]\n"
     ]
    }
   ],
   "source": [
    "counts = coin_matrix.sum(axis=1)\n",
    "print(counts.shape)\n",
    "print(counts[:20])  #  first 20 elements in the array, which contain the number of head"
   ]
  },
  {
   "cell_type": "code",
   "execution_count": 15,
   "metadata": {},
   "outputs": [],
   "source": [
    "from math import factorial as f\n",
    "def nCr(n, r):    \n",
    "    return f(n) // f(r) // f(n-r)"
   ]
  },
  {
   "cell_type": "code",
   "execution_count": 16,
   "metadata": {},
   "outputs": [
    {
     "name": "stdout",
     "output_type": "stream",
     "text": [
      "╒════════════════╤═════════════════╤═════════════════╕\n",
      "│   No. of heads │   Observed freq │   Expected freq │\n",
      "╞════════════════╪═════════════════╪═════════════════╡\n",
      "│              0 │               0 │               1 │\n",
      "├────────────────┼─────────────────┼─────────────────┤\n",
      "│              1 │               8 │              10 │\n",
      "├────────────────┼─────────────────┼─────────────────┤\n",
      "│              2 │              39 │              44 │\n",
      "├────────────────┼─────────────────┼─────────────────┤\n",
      "│              3 │             134 │             117 │\n",
      "├────────────────┼─────────────────┼─────────────────┤\n",
      "│              4 │             210 │             205 │\n",
      "├────────────────┼─────────────────┼─────────────────┤\n",
      "│              5 │             237 │             246 │\n",
      "├────────────────┼─────────────────┼─────────────────┤\n",
      "│              6 │             192 │             205 │\n",
      "├────────────────┼─────────────────┼─────────────────┤\n",
      "│              7 │             129 │             117 │\n",
      "├────────────────┼─────────────────┼─────────────────┤\n",
      "│              8 │              39 │              44 │\n",
      "├────────────────┼─────────────────┼─────────────────┤\n",
      "│              9 │              11 │              10 │\n",
      "├────────────────┼─────────────────┼─────────────────┤\n",
      "│             10 │               1 │               1 │\n",
      "╘════════════════╧═════════════════╧═════════════════╛\n",
      "sum of Observed freq: 1000\n",
      "sum of Expected freq: 1000.0\n"
     ]
    }
   ],
   "source": [
    "# frequency distribution\n",
    "no_of_heads = np.arange(11)\n",
    "observed_freq = np.bincount(counts)\n",
    "n, p, N = 10, 0.5, 1000\n",
    "expected_freq = [N*nCr(n,r)*p**n for r in range(11)]\n",
    "headers = [\"No. of heads\", \"Observed freq\", \"Expected freq\"]\n",
    "table = tabulate(np.c_[no_of_heads, observed_freq, np.around(expected_freq)], \n",
    "    headers, tablefmt=\"fancy_grid\")\n",
    "print(table)\n",
    "print(\"sum of Observed freq:\", np.sum(observed_freq))\n",
    "print(\"sum of Expected freq:\", np.sum(expected_freq))"
   ]
  },
  {
   "cell_type": "code",
   "execution_count": 17,
   "metadata": {},
   "outputs": [
    {
     "name": "stdout",
     "output_type": "stream",
     "text": [
      "╒════════════════════╤═════════════════╤══════════════╕\n",
      "│                    │   Binomial Dist │   Experiemnt │\n",
      "╞════════════════════╪═════════════════╪══════════════╡\n",
      "│ Mean               │         5       │      4.989   │\n",
      "├────────────────────┼─────────────────┼──────────────┤\n",
      "│ Variance           │         2.5     │      2.48488 │\n",
      "├────────────────────┼─────────────────┼──────────────┤\n",
      "│ Standard Deviation │         1.58114 │      1.57635 │\n",
      "╘════════════════════╧═════════════════╧══════════════╛\n"
     ]
    }
   ],
   "source": [
    "ex_stat = [counts.mean(), counts.var(), counts.std()]\n",
    "BD_stat = [n*p, n*p*(1-p), np.sqrt(n*p*(1-p))]\n",
    "row_head = [\"Mean\", \"Variance\", \"Standard Deviation\"]\n",
    "headers = [\" \", \"Binomial Dist\", \"Experiemnt\"]\n",
    "table = tabulate(np.c_[row_head, BD_stat, ex_stat], \n",
    "    headers, tablefmt=\"fancy_grid\")\n",
    "print(table)"
   ]
  },
  {
   "cell_type": "markdown",
   "metadata": {},
   "source": [
    "**Note:** NumPy has a reasonable linear algebra package that performs standard linear algebra functions. Interested reader can explore `np.linalg`. "
   ]
  }
 ],
 "metadata": {
  "kernelspec": {
   "display_name": "Python 3",
   "language": "python",
   "name": "python3"
  },
  "language_info": {
   "codemirror_mode": {
    "name": "ipython",
    "version": 3
   },
   "file_extension": ".py",
   "mimetype": "text/x-python",
   "name": "python",
   "nbconvert_exporter": "python",
   "pygments_lexer": "ipython3",
   "version": "3.7.9"
  }
 },
 "nbformat": 4,
 "nbformat_minor": 4
}
