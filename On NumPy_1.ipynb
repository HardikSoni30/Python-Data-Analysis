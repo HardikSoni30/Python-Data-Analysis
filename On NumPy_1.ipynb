{
 "cells": [
  {
   "cell_type": "code",
   "execution_count": 1,
   "metadata": {},
   "outputs": [
    {
     "data": {
      "text/plain": [
       "uname_result(system='Windows', node='Laptop_HSoni', release='10', version='10.0.17134', machine='AMD64', processor='Intel64 Family 6 Model 37 Stepping 5, GenuineIntel')"
      ]
     },
     "execution_count": 1,
     "metadata": {},
     "output_type": "execute_result"
    }
   ],
   "source": [
    "import platform\n",
    "platform.uname()"
   ]
  },
  {
   "cell_type": "code",
   "execution_count": 2,
   "metadata": {},
   "outputs": [
    {
     "data": {
      "text/plain": [
       "'3.7.2'"
      ]
     },
     "execution_count": 2,
     "metadata": {},
     "output_type": "execute_result"
    }
   ],
   "source": [
    "platform.python_version()"
   ]
  },
  {
   "cell_type": "code",
   "execution_count": 3,
   "metadata": {},
   "outputs": [
    {
     "name": "stdout",
     "output_type": "stream",
     "text": [
      "NumPy Version: 1.15.4\n"
     ]
    }
   ],
   "source": [
    "import numpy as np\n",
    "print(\"NumPy Version:\",np.__version__)"
   ]
  },
  {
   "cell_type": "markdown",
   "metadata": {},
   "source": [
    "# Basics of NumPy Array Object\n",
    "\n",
    "Arrays can be created in several ways. One of them is to use the array function to turn a list into an array:\n",
    "```python\n",
    "np.array(list,type)\n",
    "```"
   ]
  },
  {
   "cell_type": "code",
   "execution_count": 4,
   "metadata": {},
   "outputs": [
    {
     "data": {
      "text/plain": [
       "array([[2, 3, 4],\n",
       "       [5, 6, 7]])"
      ]
     },
     "execution_count": 4,
     "metadata": {},
     "output_type": "execute_result"
    }
   ],
   "source": [
    "x = np.array([range(k, k+3) for k in [2, 5]])\n",
    "x  # Two-dimensional array"
   ]
  },
  {
   "cell_type": "code",
   "execution_count": 5,
   "metadata": {},
   "outputs": [
    {
     "name": "stdout",
     "output_type": "stream",
     "text": [
      "We just create a  ndarray\n"
     ]
    }
   ],
   "source": [
    "print(\"We just create a \", type(x).__name__)"
   ]
  },
  {
   "cell_type": "code",
   "execution_count": 6,
   "metadata": {},
   "outputs": [
    {
     "name": "stdout",
     "output_type": "stream",
     "text": [
      "Our template has shape as (2, 3)\n"
     ]
    }
   ],
   "source": [
    "print(\"Our template has shape as\" ,x.shape)"
   ]
  },
  {
   "cell_type": "code",
   "execution_count": 7,
   "metadata": {},
   "outputs": [
    {
     "name": "stdout",
     "output_type": "stream",
     "text": [
      "Total size is 6\n"
     ]
    }
   ],
   "source": [
    "print(\"Total size is\",x.size)"
   ]
  },
  {
   "cell_type": "code",
   "execution_count": 8,
   "metadata": {},
   "outputs": [
    {
     "name": "stdout",
     "output_type": "stream",
     "text": [
      "The dimension of our array is  2\n"
     ]
    }
   ],
   "source": [
    "print(\"The dimension of our array is \" ,x.ndim)"
   ]
  },
  {
   "cell_type": "code",
   "execution_count": 9,
   "metadata": {},
   "outputs": [
    {
     "name": "stdout",
     "output_type": "stream",
     "text": [
      "Data type of elements are int32\n"
     ]
    }
   ],
   "source": [
    "print(\"Data type of elements are\",x.dtype)"
   ]
  },
  {
   "cell_type": "code",
   "execution_count": 10,
   "metadata": {},
   "outputs": [
    {
     "name": "stdout",
     "output_type": "stream",
     "text": [
      "It consumes 24 bytes\n"
     ]
    }
   ],
   "source": [
    "print(\"It consumes\",x.nbytes,\"bytes\")"
   ]
  },
  {
   "cell_type": "code",
   "execution_count": 11,
   "metadata": {},
   "outputs": [
    {
     "name": "stdout",
     "output_type": "stream",
     "text": [
      "[[2. 3. 4.]\n",
      " [5. 6. 7.]]\n",
      "48\n"
     ]
    }
   ],
   "source": [
    "# x = np.array([range(k, k+3) for k in [2, 5]], float)\n",
    "x = np.array([range(k, k+3) for k in [2, 5]], dtype=np.float)\n",
    "print(x)\n",
    "print(x.nbytes)"
   ]
  },
  {
   "cell_type": "code",
   "execution_count": 12,
   "metadata": {},
   "outputs": [
    {
     "name": "stdout",
     "output_type": "stream",
     "text": [
      "[[2 3 4]\n",
      " [5 6 7]]\n",
      "24\n"
     ]
    }
   ],
   "source": [
    "# x = np.array([range(k, k+3) for k in [2, 5]], 'uint32')\n",
    "x = np.array([range(k, k+3) for k in [2, 5]], dtype=np.uint32)\n",
    "print(x)\n",
    "print(x.nbytes)"
   ]
  },
  {
   "cell_type": "markdown",
   "metadata": {},
   "source": [
    "Observe that each type consumes a different number of bytes. Hence, it is advisable to declare data type carefully while creating an array. \n",
    "\n",
    "\n",
    "Imagine you are creating a matrix of shape (100000, 100) as follows: "
   ]
  },
  {
   "cell_type": "code",
   "execution_count": 13,
   "metadata": {},
   "outputs": [
    {
     "name": "stdout",
     "output_type": "stream",
     "text": [
      "You created a  ndarray\n",
      "dtype: float64\n",
      "itemsize: 8 bytes\n",
      "nbytes: 80000000\n",
      "*****After Changing data type*****\n",
      "dtype: float32\n",
      "itemsize: 4 bytes\n",
      "nbytes: 40000000\n"
     ]
    }
   ],
   "source": [
    "data = np.random.rand(100000,100)\n",
    "print(\"You created a \", type(data).__name__)\n",
    "print(\"dtype:\", data.dtype)\n",
    "print(\"itemsize:\", data.itemsize, \"bytes\")\n",
    "print(\"nbytes:\", data.nbytes)\n",
    "# data_new = np.array(data, dtype = np.float32)\n",
    "data_new = data.astype(np.float32)\n",
    "print(\"*****After Changing data type*****\")\n",
    "print(\"dtype:\", data_new.dtype)\n",
    "print(\"itemsize:\", data_new.itemsize, \"bytes\")\n",
    "print(\"nbytes:\", data_new.nbytes)"
   ]
  },
  {
   "cell_type": "markdown",
   "metadata": {},
   "source": [
    "As you can see from the preceding code, the size decreases from 80 MB to 40 MB just by\n",
    "changing the `dtype`. What we get in return is less precision after decimal points. Instead of\n",
    "being precise to 16 decimals points, you will have only 7 decimals.\n",
    "\n",
    "\n",
    "In general, we expect that `nbytes` is equal to `itemsize` times `size`.\n",
    "\n",
    "\n",
    "Visit https://docs.scipy.org/doc/numpy-1.13.0/user/basics.types.html to refer Standard NumPy data types.\n",
    "\n",
    "\n",
    "**Note:** you cannot change the dtype after you create the array. However, what you can do is either create it again or copy the existing one with a new dtype and with the `astype` attribute."
   ]
  },
  {
   "cell_type": "markdown",
   "metadata": {},
   "source": [
    "## Array Creation Functions\n",
    "\n",
    "- **`np.arange()`** Produces an array containing the specified values, acting as an array version of `range()`.\n",
    "\n",
    "- **`np.ones()`** Produces an array containing all ones.\n",
    "\n",
    "- **`np.zeros()`** Similar to `np.ones()`, except that all elements of the matrix are zero.\n",
    "\n",
    "- **`np.eye()`** Produces the identity matrix. \n",
    "\n",
    "- **`np.linspace(start,stop,npoints)`** Produces a matrix with linearly spaced elements. The nice thing is that you specify the number of elements, not the spacing."
   ]
  },
  {
   "cell_type": "code",
   "execution_count": 14,
   "metadata": {},
   "outputs": [
    {
     "name": "stdout",
     "output_type": "stream",
     "text": [
      "array: [1 3 5 7 9]\n",
      "dtype: int32\n"
     ]
    }
   ],
   "source": [
    "x = np.arange(1, 10, 2)\n",
    "print('array:', x)\n",
    "print('dtype:', x.dtype)"
   ]
  },
  {
   "cell_type": "code",
   "execution_count": 15,
   "metadata": {},
   "outputs": [
    {
     "name": "stdout",
     "output_type": "stream",
     "text": [
      "array: [0.  0.1 0.2 0.3 0.4 0.5 0.6 0.7 0.8 0.9]\n",
      "dtype: float64\n"
     ]
    }
   ],
   "source": [
    "# it accepts float arguments\n",
    "x = np.arange(0, 1, 0.1)\n",
    "print('array:', x)\n",
    "print('dtype:', x.dtype)"
   ]
  },
  {
   "cell_type": "code",
   "execution_count": 16,
   "metadata": {},
   "outputs": [
    {
     "name": "stdout",
     "output_type": "stream",
     "text": [
      "array: [0.  0.1 0.2 0.3 0.4 0.5 0.6 0.7 0.8 0.9]\n",
      "dtype: float32\n"
     ]
    }
   ],
   "source": [
    "# by specifying dtype\n",
    "x = np.array(np.arange(0, 1, 0.1), dtype=np.float32)\n",
    "print('array:', x)\n",
    "print('dtype:', x.dtype)"
   ]
  },
  {
   "cell_type": "code",
   "execution_count": 17,
   "metadata": {},
   "outputs": [
    {
     "data": {
      "text/plain": [
       "array([0.        , 0.1       , 0.2       , 0.3       , 0.4       ,\n",
       "       0.5       , 0.6       , 0.7       , 0.8       , 0.90000004],\n",
       "      dtype=float32)"
      ]
     },
     "execution_count": 17,
     "metadata": {},
     "output_type": "execute_result"
    }
   ],
   "source": [
    "x = np.arange(0, 1, 0.1, dtype=np.float32)\n",
    "x"
   ]
  },
  {
   "cell_type": "code",
   "execution_count": 18,
   "metadata": {},
   "outputs": [
    {
     "name": "stdout",
     "output_type": "stream",
     "text": [
      "array: [1. 1. 1.]\n",
      "dtype: float64\n"
     ]
    }
   ],
   "source": [
    "x = np.ones(3)\n",
    "print('array:', x)\n",
    "print('dtype:', x.dtype)"
   ]
  },
  {
   "cell_type": "code",
   "execution_count": 19,
   "metadata": {},
   "outputs": [
    {
     "name": "stdout",
     "output_type": "stream",
     "text": [
      "array: [[1. 1. 1. 1.]\n",
      " [1. 1. 1. 1.]\n",
      " [1. 1. 1. 1.]]\n",
      "dtype: float64\n"
     ]
    }
   ],
   "source": [
    "# Two-dimensional array\n",
    "x = np.ones((3,4))\n",
    "print('array:', x)\n",
    "print('dtype:', x.dtype)"
   ]
  },
  {
   "cell_type": "code",
   "execution_count": 20,
   "metadata": {},
   "outputs": [
    {
     "name": "stdout",
     "output_type": "stream",
     "text": [
      "array: [[1. 1. 1. 1.]\n",
      " [1. 1. 1. 1.]\n",
      " [1. 1. 1. 1.]]\n",
      "dtype: float32\n"
     ]
    }
   ],
   "source": [
    "# You can specify the type of arrays\n",
    "x = np.ones((3,4),dtype=np.float32)\n",
    "print('array:', x)\n",
    "print('dtype:', x.dtype)"
   ]
  },
  {
   "cell_type": "code",
   "execution_count": 21,
   "metadata": {},
   "outputs": [
    {
     "data": {
      "text/plain": [
       "array([[[1., 1., 1., 1., 1.],\n",
       "        [1., 1., 1., 1., 1.],\n",
       "        [1., 1., 1., 1., 1.],\n",
       "        [1., 1., 1., 1., 1.]],\n",
       "\n",
       "       [[1., 1., 1., 1., 1.],\n",
       "        [1., 1., 1., 1., 1.],\n",
       "        [1., 1., 1., 1., 1.],\n",
       "        [1., 1., 1., 1., 1.]],\n",
       "\n",
       "       [[1., 1., 1., 1., 1.],\n",
       "        [1., 1., 1., 1., 1.],\n",
       "        [1., 1., 1., 1., 1.],\n",
       "        [1., 1., 1., 1., 1.]]])"
      ]
     },
     "execution_count": 21,
     "metadata": {},
     "output_type": "execute_result"
    }
   ],
   "source": [
    "# Three-dimensional array\n",
    "x = np.ones((3,4,5))\n",
    "x"
   ]
  },
  {
   "cell_type": "code",
   "execution_count": 22,
   "metadata": {},
   "outputs": [
    {
     "name": "stdout",
     "output_type": "stream",
     "text": [
      "array: [[0. 0. 0. 0.]\n",
      " [0. 0. 0. 0.]\n",
      " [0. 0. 0. 0.]]\n",
      "dtype: float32\n"
     ]
    }
   ],
   "source": [
    "# You can specify the type of arrays\n",
    "x = np.zeros((3,4),dtype=np.float32)\n",
    "print('array:', x)\n",
    "print('dtype:', x.dtype)"
   ]
  },
  {
   "cell_type": "code",
   "execution_count": 23,
   "metadata": {},
   "outputs": [
    {
     "name": "stdout",
     "output_type": "stream",
     "text": [
      "array: [[1. 0. 0.]\n",
      " [0. 1. 0.]\n",
      " [0. 0. 1.]]\n",
      "dtype: float32\n"
     ]
    }
   ],
   "source": [
    "# x = np.eye(3)\n",
    "x = np.eye(3,dtype=np.float32)\n",
    "print('array:', x)\n",
    "print('dtype:', x.dtype)"
   ]
  },
  {
   "cell_type": "code",
   "execution_count": 24,
   "metadata": {},
   "outputs": [
    {
     "name": "stdout",
     "output_type": "stream",
     "text": [
      "array: [0.  0.1 0.2 0.3 0.4 0.5 0.6 0.7 0.8 0.9]\n",
      "dtype: float64\n"
     ]
    }
   ],
   "source": [
    "# 10 elements with uniformly distributed values\n",
    "x = np.linspace(0, 0.9, 10) \n",
    "print('array:', x)\n",
    "print('dtype:', x.dtype)"
   ]
  },
  {
   "cell_type": "code",
   "execution_count": 25,
   "metadata": {},
   "outputs": [
    {
     "name": "stdout",
     "output_type": "stream",
     "text": [
      "array: [0.  0.1 0.2 0.3 0.4 0.5 0.6 0.7 0.8 0.9]\n",
      "dtype: float32\n"
     ]
    }
   ],
   "source": [
    "# 10 elements with uniformly distributed values\n",
    "x = np.linspace(0, 0.9, 10, dtype=np.float32) \n",
    "print('array:', x)\n",
    "print('dtype:', x.dtype)"
   ]
  },
  {
   "cell_type": "markdown",
   "metadata": {},
   "source": [
    "## Changing Array Dimensions/Shape \n",
    "\n",
    "The **`reshape`** method or the **`shape`** attribute is used both to set and read the array dimensions:"
   ]
  },
  {
   "cell_type": "code",
   "execution_count": 26,
   "metadata": {},
   "outputs": [],
   "source": [
    "x = np.array([0, 1.5, 3, -8.5, 6, 9])"
   ]
  },
  {
   "cell_type": "code",
   "execution_count": 27,
   "metadata": {},
   "outputs": [
    {
     "data": {
      "text/plain": [
       "array([[ 0. ,  1.5,  3. ],\n",
       "       [-8.5,  6. ,  9. ]])"
      ]
     },
     "execution_count": 27,
     "metadata": {},
     "output_type": "execute_result"
    }
   ],
   "source": [
    "# turn x into a 2x3 matrix\n",
    "x.shape = (2, 3)\n",
    "x"
   ]
  },
  {
   "cell_type": "code",
   "execution_count": 28,
   "metadata": {},
   "outputs": [
    {
     "data": {
      "text/plain": [
       "array([ 0. ,  1.5,  3. , -8.5,  6. ,  9. ])"
      ]
     },
     "execution_count": 28,
     "metadata": {},
     "output_type": "execute_result"
    }
   ],
   "source": [
    "# turn x into a vector of length 6 again\n",
    "x.shape = (x.size,)\n",
    "x"
   ]
  },
  {
   "cell_type": "code",
   "execution_count": 29,
   "metadata": {},
   "outputs": [
    {
     "data": {
      "text/plain": [
       "array([[ 0. ,  1.5,  3. ],\n",
       "       [-8.5,  6. ,  9. ]])"
      ]
     },
     "execution_count": 29,
     "metadata": {},
     "output_type": "execute_result"
    }
   ],
   "source": [
    "# x = x.reshape(2, 3)  same effect as setting x.shape\n",
    "y = np.reshape(x, (2, 3))\n",
    "y"
   ]
  },
  {
   "cell_type": "markdown",
   "metadata": {},
   "source": [
    "One nice thing about **`np.reshape()`** is that you can use '-1' for 1 dimension within the reshape command to mean \"as many as is required\". This saves you doing the multiplication yourself.\n",
    "\n",
    "The criterion to satisfy for providing the new shape is that *'The new shape should be compatible with the original shape'.* \n",
    "\n",
    "*numpy* allow us to give one of new shape parameter as -1 (eg: (2,-1) or (-1,3) but not (-1, -1)). It simply means that it is an unknown *dimension* and we want numpy to figure it out. And numpy will figure this by looking at the *'length of the array and remaining dimensions'* and making sure it satisfies the above mentioned criteria. "
   ]
  },
  {
   "cell_type": "code",
   "execution_count": 30,
   "metadata": {},
   "outputs": [
    {
     "name": "stdout",
     "output_type": "stream",
     "text": [
      "shape:  (3, 4)\n"
     ]
    },
    {
     "data": {
      "text/plain": [
       "array([[ 1,  2,  3,  4],\n",
       "       [ 5,  6,  7,  8],\n",
       "       [ 9, 10, 11, 12]])"
      ]
     },
     "execution_count": 30,
     "metadata": {},
     "output_type": "execute_result"
    }
   ],
   "source": [
    "x = np.arange(1, 13).reshape(3, 4)\n",
    "print(\"shape: \", x.shape)\n",
    "x\n",
    "# As new shape (3, 4) is compatible with original shape (12,)"
   ]
  },
  {
   "cell_type": "code",
   "execution_count": 31,
   "metadata": {},
   "outputs": [
    {
     "data": {
      "text/plain": [
       "array([[ 1,  2,  3,  4],\n",
       "       [ 5,  6,  7,  8],\n",
       "       [ 9, 10, 11, 12]])"
      ]
     },
     "execution_count": 31,
     "metadata": {},
     "output_type": "execute_result"
    }
   ],
   "source": [
    "# you don't need to determine second dimension\n",
    "# We have provided rows as 3 but columns as unknown .\n",
    "x = np.arange(1, 13).reshape(3, -1)\n",
    "x"
   ]
  },
  {
   "cell_type": "code",
   "execution_count": 32,
   "metadata": {},
   "outputs": [
    {
     "data": {
      "text/plain": [
       "array([[ 1,  2,  3],\n",
       "       [ 4,  5,  6],\n",
       "       [ 7,  8,  9],\n",
       "       [10, 11, 12]])"
      ]
     },
     "execution_count": 32,
     "metadata": {},
     "output_type": "execute_result"
    }
   ],
   "source": [
    "# We have provided column as 3 but rows as unknown .\n",
    "x = np.arange(1, 13).reshape(-1, 3)\n",
    "x"
   ]
  },
  {
   "cell_type": "code",
   "execution_count": 33,
   "metadata": {},
   "outputs": [
    {
     "name": "stdout",
     "output_type": "stream",
     "text": [
      "[[ 1]\n",
      " [ 2]\n",
      " [ 3]\n",
      " [ 4]\n",
      " [ 5]\n",
      " [ 6]\n",
      " [ 7]\n",
      " [ 8]\n",
      " [ 9]\n",
      " [10]\n",
      " [11]\n",
      " [12]]\n",
      "shape: (12, 1)\n"
     ]
    }
   ],
   "source": [
    "# row vector/matrix\n",
    "x = x.reshape(-1, 1)\n",
    "print(x)\n",
    "print('shape:', x.shape)"
   ]
  },
  {
   "cell_type": "code",
   "execution_count": 34,
   "metadata": {},
   "outputs": [
    {
     "name": "stdout",
     "output_type": "stream",
     "text": [
      "[[ 1  2  3  4  5  6  7  8  9 10 11 12]]\n",
      "shape: (1, 12)\n"
     ]
    }
   ],
   "source": [
    "# column vector/matrix\n",
    "x = x.reshape(1, -1)\n",
    "print(x)\n",
    "print('shape:', x.shape)"
   ]
  },
  {
   "cell_type": "markdown",
   "metadata": {},
   "source": [
    "**`np.ravel(x)`** Makes the array one-dimensional."
   ]
  },
  {
   "cell_type": "code",
   "execution_count": 35,
   "metadata": {},
   "outputs": [
    {
     "data": {
      "text/plain": [
       "array([[ 1,  2,  3,  4],\n",
       "       [ 5,  6,  7,  8],\n",
       "       [ 9, 10, 11, 12]])"
      ]
     },
     "execution_count": 35,
     "metadata": {},
     "output_type": "execute_result"
    }
   ],
   "source": [
    "x = np.arange(1, 13).reshape(3, -1)\n",
    "x"
   ]
  },
  {
   "cell_type": "code",
   "execution_count": 36,
   "metadata": {},
   "outputs": [
    {
     "data": {
      "text/plain": [
       "array([ 1,  2,  3,  4,  5,  6,  7,  8,  9, 10, 11, 12])"
      ]
     },
     "execution_count": 36,
     "metadata": {},
     "output_type": "execute_result"
    }
   ],
   "source": [
    "x = np.ravel(x)\n",
    "x"
   ]
  },
  {
   "cell_type": "code",
   "execution_count": 37,
   "metadata": {},
   "outputs": [
    {
     "data": {
      "text/plain": [
       "(12,)"
      ]
     },
     "execution_count": 37,
     "metadata": {},
     "output_type": "execute_result"
    }
   ],
   "source": [
    "x.shape"
   ]
  },
  {
   "cell_type": "code",
   "execution_count": 38,
   "metadata": {},
   "outputs": [
    {
     "data": {
      "text/plain": [
       "array([ 1,  2,  3,  4,  5,  6,  7,  8,  9, 10, 11, 12])"
      ]
     },
     "execution_count": 38,
     "metadata": {},
     "output_type": "execute_result"
    }
   ],
   "source": [
    "x = x.ravel()\n",
    "x"
   ]
  },
  {
   "cell_type": "code",
   "execution_count": 39,
   "metadata": {},
   "outputs": [
    {
     "data": {
      "text/plain": [
       "(12,)"
      ]
     },
     "execution_count": 39,
     "metadata": {},
     "output_type": "execute_result"
    }
   ],
   "source": [
    "x.shape"
   ]
  },
  {
   "cell_type": "markdown",
   "metadata": {},
   "source": [
    "**`np.transpose(x)`** Compute the matrix transpose."
   ]
  },
  {
   "cell_type": "code",
   "execution_count": 40,
   "metadata": {},
   "outputs": [
    {
     "data": {
      "text/plain": [
       "array([[ 1,  2,  3,  4],\n",
       "       [ 5,  6,  7,  8],\n",
       "       [ 9, 10, 11, 12]])"
      ]
     },
     "execution_count": 40,
     "metadata": {},
     "output_type": "execute_result"
    }
   ],
   "source": [
    "x = np.arange(1, 13).reshape(3, -1)\n",
    "x"
   ]
  },
  {
   "cell_type": "code",
   "execution_count": 41,
   "metadata": {},
   "outputs": [
    {
     "data": {
      "text/plain": [
       "array([[ 1,  5,  9],\n",
       "       [ 2,  6, 10],\n",
       "       [ 3,  7, 11],\n",
       "       [ 4,  8, 12]])"
      ]
     },
     "execution_count": 41,
     "metadata": {},
     "output_type": "execute_result"
    }
   ],
   "source": [
    "x_T = np.transpose(x)\n",
    "x_T"
   ]
  },
  {
   "cell_type": "code",
   "execution_count": 42,
   "metadata": {},
   "outputs": [
    {
     "data": {
      "text/plain": [
       "array([[ 1,  5,  9],\n",
       "       [ 2,  6, 10],\n",
       "       [ 3,  7, 11],\n",
       "       [ 4,  8, 12]])"
      ]
     },
     "execution_count": 42,
     "metadata": {},
     "output_type": "execute_result"
    }
   ],
   "source": [
    "x_T = x.transpose()\n",
    "x_T"
   ]
  },
  {
   "cell_type": "code",
   "execution_count": 43,
   "metadata": {},
   "outputs": [
    {
     "data": {
      "text/plain": [
       "array([[ 1,  5,  9],\n",
       "       [ 2,  6, 10],\n",
       "       [ 3,  7, 11],\n",
       "       [ 4,  8, 12]])"
      ]
     },
     "execution_count": 43,
     "metadata": {},
     "output_type": "execute_result"
    }
   ],
   "source": [
    "x_T = x.T\n",
    "x_T"
   ]
  }
 ],
 "metadata": {
  "kernelspec": {
   "display_name": "Python 3",
   "language": "python",
   "name": "python3"
  },
  "language_info": {
   "codemirror_mode": {
    "name": "ipython",
    "version": 3
   },
   "file_extension": ".py",
   "mimetype": "text/x-python",
   "name": "python",
   "nbconvert_exporter": "python",
   "pygments_lexer": "ipython3",
   "version": "3.7.9"
  }
 },
 "nbformat": 4,
 "nbformat_minor": 4
}
