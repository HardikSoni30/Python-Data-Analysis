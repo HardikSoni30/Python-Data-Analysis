{
 "cells": [
  {
   "cell_type": "code",
   "execution_count": 1,
   "metadata": {},
   "outputs": [
    {
     "data": {
      "text/plain": [
       "uname_result(system='Windows', node='Laptop_HSoni', release='10', version='10.0.17134', machine='AMD64', processor='Intel64 Family 6 Model 37 Stepping 5, GenuineIntel')"
      ]
     },
     "execution_count": 1,
     "metadata": {},
     "output_type": "execute_result"
    }
   ],
   "source": [
    "import platform\n",
    "platform.uname()"
   ]
  },
  {
   "cell_type": "code",
   "execution_count": 2,
   "metadata": {},
   "outputs": [
    {
     "data": {
      "text/plain": [
       "'3.7.2'"
      ]
     },
     "execution_count": 2,
     "metadata": {},
     "output_type": "execute_result"
    }
   ],
   "source": [
    "platform.python_version()"
   ]
  },
  {
   "cell_type": "code",
   "execution_count": 3,
   "metadata": {},
   "outputs": [
    {
     "name": "stdout",
     "output_type": "stream",
     "text": [
      "NumPy Version: 1.15.4\n"
     ]
    }
   ],
   "source": [
    "import numpy as np\n",
    "print(\"NumPy Version:\",np.__version__)"
   ]
  },
  {
   "cell_type": "markdown",
   "metadata": {},
   "source": [
    "# Universal Functions\n",
    "\n",
    "- Universal functions (Ufuncs) are mathematical functions that we can use in arrays, and when we use these functions in arrays, it will be applied element by element.\n",
    "\n",
    "- Ufuncs exist in two flavors: unary ufuncs, which operate on a single input, and binary ufuncs, which operate on two inputs.\n",
    "\n",
    "| Operator \t| Equivalent ufunc \t|\n",
    "|----------\t|------------------\t|\n",
    "|     `+`    \t| np.add           \t|\n",
    "|     `-`    \t| np.subtract      \t|\n",
    "|     `*`    \t| np.multiply      \t|\n",
    "|     `/`    \t| np.divide        \t|\n",
    "|    `//`    \t| np.floor_divide  \t|\n",
    "|    `**`    \t| np.power         \t|\n",
    "|     `%`    \t| np.mod           \t|"
   ]
  },
  {
   "cell_type": "code",
   "execution_count": 4,
   "metadata": {},
   "outputs": [],
   "source": [
    "# The tabulate package works nicely for Numpy arrays:\n",
    "# you can install from jupyter notebook by executing following command.\n",
    "# !pip install tabulate\n",
    "from tabulate import tabulate"
   ]
  },
  {
   "cell_type": "code",
   "execution_count": 5,
   "metadata": {},
   "outputs": [
    {
     "name": "stdout",
     "output_type": "stream",
     "text": [
      "╒═════════╤══════════════╤══════════════╤══════════════╕\n",
      "│   theta │   sin(theta) │   cos(theta) │   tan(theta) │\n",
      "╞═════════╪══════════════╪══════════════╪══════════════╡\n",
      "│       0 │     0        │  1           │  0           │\n",
      "├─────────┼──────────────┼──────────────┼──────────────┤\n",
      "│      15 │     0.258819 │  0.965926    │  0.267949    │\n",
      "├─────────┼──────────────┼──────────────┼──────────────┤\n",
      "│      30 │     0.5      │  0.866025    │  0.57735     │\n",
      "├─────────┼──────────────┼──────────────┼──────────────┤\n",
      "│      45 │     0.707107 │  0.707107    │  1           │\n",
      "├─────────┼──────────────┼──────────────┼──────────────┤\n",
      "│      60 │     0.866025 │  0.5         │  1.73205     │\n",
      "├─────────┼──────────────┼──────────────┼──────────────┤\n",
      "│      75 │     0.965926 │  0.258819    │  3.73205     │\n",
      "├─────────┼──────────────┼──────────────┼──────────────┤\n",
      "│      90 │     1        │  6.12323e-17 │  1.63312e+16 │\n",
      "╘═════════╧══════════════╧══════════════╧══════════════╛\n"
     ]
    }
   ],
   "source": [
    "# Trigonometric functions: angles are in degree --> Converted into radian\n",
    "theta_degree = np.linspace(0, 90, 7)\n",
    "# theta_radian = np.radians(theta_degree)\n",
    "trigo = np.array(\n",
    "    [np.sin(np.deg2rad(theta_degree)), \n",
    "     np.cos(np.deg2rad(theta_degree)), \n",
    "     np.tan(np.deg2rad(theta_degree))])\n",
    "headers = [\"theta\", \"sin(theta)\", \"cos(theta)\", \"tan(theta)\"]\n",
    "table = tabulate(np.vstack([theta_degree,trigo]).T, headers, tablefmt=\"fancy_grid\")\n",
    "print(table)"
   ]
  },
  {
   "cell_type": "code",
   "execution_count": 6,
   "metadata": {},
   "outputs": [
    {
     "name": "stdout",
     "output_type": "stream",
     "text": [
      "╒════════════════╤════════════════╤══════════════╤══════════════╤══════════════╕\n",
      "│   theta_degree │   theta_radian │   sin(theta) │   cos(theta) │   tan(theta) │\n",
      "╞════════════════╪════════════════╪══════════════╪══════════════╪══════════════╡\n",
      "│              0 │       0        │     0        │  1           │  0           │\n",
      "├────────────────┼────────────────┼──────────────┼──────────────┼──────────────┤\n",
      "│             15 │       0.261799 │     0.258819 │  0.965926    │  0.267949    │\n",
      "├────────────────┼────────────────┼──────────────┼──────────────┼──────────────┤\n",
      "│             30 │       0.523599 │     0.5      │  0.866025    │  0.57735     │\n",
      "├────────────────┼────────────────┼──────────────┼──────────────┼──────────────┤\n",
      "│             45 │       0.785398 │     0.707107 │  0.707107    │  1           │\n",
      "├────────────────┼────────────────┼──────────────┼──────────────┼──────────────┤\n",
      "│             60 │       1.0472   │     0.866025 │  0.5         │  1.73205     │\n",
      "├────────────────┼────────────────┼──────────────┼──────────────┼──────────────┤\n",
      "│             75 │       1.309    │     0.965926 │  0.258819    │  3.73205     │\n",
      "├────────────────┼────────────────┼──────────────┼──────────────┼──────────────┤\n",
      "│             90 │       1.5708   │     1        │  6.12323e-17 │  1.63312e+16 │\n",
      "╘════════════════╧════════════════╧══════════════╧══════════════╧══════════════╛\n"
     ]
    }
   ],
   "source": [
    "# Trigonometric functions: angles are in radian\n",
    "theta_degree = np.linspace(0, 90, 7)\n",
    "# theta = np.radians(theta_degree)\n",
    "theta = np.linspace(0, np.pi/2, 7)\n",
    "trigo = np.array([np.sin(theta), np.cos(theta), np.tan(theta)])\n",
    "headers = [\"theta_degree\", \"theta_radian\", \"sin(theta)\", \"cos(theta)\", \"tan(theta)\"]\n",
    "table = tabulate(np.vstack([theta_degree,theta,trigo]).T, headers, tablefmt=\"fancy_grid\")\n",
    "print(table)"
   ]
  },
  {
   "cell_type": "code",
   "execution_count": 7,
   "metadata": {},
   "outputs": [
    {
     "data": {
      "text/plain": [
       "array([1, 2, 3, 4])"
      ]
     },
     "execution_count": 7,
     "metadata": {},
     "output_type": "execute_result"
    }
   ],
   "source": [
    "# Exponents and logarithms\n",
    "x = np.arange(1,5)\n",
    "x"
   ]
  },
  {
   "cell_type": "code",
   "execution_count": 8,
   "metadata": {},
   "outputs": [
    {
     "name": "stdout",
     "output_type": "stream",
     "text": [
      "╒═════╤══════════╤═══════╤═══════╕\n",
      "│   x │   exp(x) │   2^x │   3^x │\n",
      "╞═════╪══════════╪═══════╪═══════╡\n",
      "│   1 │  2.71828 │     2 │     3 │\n",
      "├─────┼──────────┼───────┼───────┤\n",
      "│   2 │  7.38906 │     4 │     9 │\n",
      "├─────┼──────────┼───────┼───────┤\n",
      "│   3 │ 20.0855  │     8 │    27 │\n",
      "├─────┼──────────┼───────┼───────┤\n",
      "│   4 │ 54.5982  │    16 │    81 │\n",
      "╘═════╧══════════╧═══════╧═══════╛\n"
     ]
    }
   ],
   "source": [
    "headers = [\"x\", \"exp(x)\", \"2^x\", \"3^x\"]\n",
    "table = tabulate(\n",
    "    np.c_[x,np.exp(x), np.exp2(x), np.power(3, x)], \n",
    "    headers, tablefmt=\"fancy_grid\")\n",
    "print(table)"
   ]
  },
  {
   "cell_type": "code",
   "execution_count": 9,
   "metadata": {},
   "outputs": [
    {
     "name": "stdout",
     "output_type": "stream",
     "text": [
      "╒═════╤══════════╤═══════════╤════════════╕\n",
      "│   x │    ln(x) │   log2(x) │   log10(x) │\n",
      "╞═════╪══════════╪═══════════╪════════════╡\n",
      "│   1 │ 0        │   0       │   0        │\n",
      "├─────┼──────────┼───────────┼────────────┤\n",
      "│   2 │ 0.693147 │   1       │   0.30103  │\n",
      "├─────┼──────────┼───────────┼────────────┤\n",
      "│   3 │ 1.09861  │   1.58496 │   0.477121 │\n",
      "├─────┼──────────┼───────────┼────────────┤\n",
      "│   4 │ 1.38629  │   2       │   0.60206  │\n",
      "╘═════╧══════════╧═══════════╧════════════╛\n"
     ]
    }
   ],
   "source": [
    "# logarithms: inverse of the exponentials\n",
    "headers = [\"x\", \"ln(x)\", \"log2(x)\", \"log10(x)\"]\n",
    "table = tabulate(\n",
    "    np.c_[x,np.log(x), np.log2(x), np.log10(x)], \n",
    "    headers, tablefmt=\"fancy_grid\")\n",
    "print(table)"
   ]
  },
  {
   "cell_type": "markdown",
   "metadata": {},
   "source": [
    "NumPy has many more ufuncs available, including inverse trig functions, hyperbolic trig functions, bitwise arithmetic, comparison operators, rounding and remainders, and much more. A look through the NumPy documentation reveals a lot of interesting functionality.\n",
    "\n",
    "Following table provides a list of useful **aggregation** functions available in NumPy. (Ref: Python Data Science Handbook, pg. # 61)\n",
    "\n",
    "| Function Name \t| NaN-safe Version \t| Description                               \t|\n",
    "|:-------------:\t|:----------------:\t|:-------------------------------------------:\t|\n",
    "|     np.sum    \t|     np.nansum    \t| Compute sum of elements                   \t|\n",
    "|    np.prod    \t|    np.nanprod    \t| Compute product of elements               \t|\n",
    "|    np.mean    \t|    np.nanmean    \t| Compute mean of elements                  \t|\n",
    "|   np.median   \t|   np.nanmedian   \t| Compute median of elements                \t|\n",
    "|     np.std    \t|     np.nanstd    \t| Compute Standard Deviation of elements    \t|\n",
    "|     np.var    \t|     np.nanvar    \t| Compute Variance of elements              \t|\n",
    "| np.percentile \t| np.nanpercentile \t| Compute rank-based statistics of elements \t|\n",
    "|     np.min    \t|     np.nanmin    \t| Find Minimum value                        \t|\n",
    "|     np.max    \t|     np.nanmax    \t| Find Maximum value                        \t|\n",
    "|   np.argmin   \t|   np.nanargmin   \t| Find index of Minimum value               \t|\n",
    "|   np.argmax   \t|   np.nanargmax   \t| Find index of Maximum value               \t|\n",
    "|     np.any    \t|        NA        \t| Evaluate whether any elements are true    \t|\n",
    "|     np.all    \t|        NA        \t| Evaluate whether all elements are true    \t|\n",
    "\n",
    "\n"
   ]
  },
  {
   "cell_type": "markdown",
   "metadata": {},
   "source": [
    "# Random Numbers\n",
    "\n",
    "There are some good random number features within NumPy, which you access in `np.random` after importing NumPy.\n",
    "\n",
    "- **`np.random.rand(matsize)`** produces uniformly distributed random numbers between 0 and 1 in an array of size matsize\n",
    "\n",
    "- **`np.random.randn(matsize)`** produces zero mean, unit variance Gaussian random numbers\n",
    "\n",
    "- **`np.random.normal(mean,stdev,matsize)`** produces Gaussian random numbers with specifed mean and standard deviation\n",
    "\n",
    "- **`np.random.uniform(low,high,matsize)`** produces uniform random numbers between low and high\n",
    "\n",
    "- **`np.random.randint(low,high,matsize)`** produces random integer values between low and high"
   ]
  },
  {
   "cell_type": "markdown",
   "metadata": {},
   "source": [
    "# Comparision, Mask, and Boolean Logic\n",
    "\n",
    "As in the case of arithmetic operators, the comparison operators are implemented as ufuncs in NumPy; for example, when you write `x < 3`, internally NumPy uses `np.less(x, 3)`. A summary of the comparison operators and their equivalent ufunc is shown here:\n",
    "\n",
    "\n",
    "## Comparision Operators\n",
    "\n",
    "| Operator \t| Equivalent ufunc \t|\n",
    "|:--------:\t|:----------------:\t|\n",
    "|     <    \t|      np.less     \t|\n",
    "|    <=    \t|   np.less_equal  \t|\n",
    "|     >    \t|    np.greater    \t|\n",
    "|    >=    \t| np.greater_equal \t|\n",
    "|    ==    \t|     np.equal     \t|\n",
    "|    !=    \t|   np.not_equal   \t|\n",
    "\n",
    "\n",
    "## Boolean Operators\n",
    "\n",
    "| Operator \t| Equivalent ufunc \t|\n",
    "|:--------:\t|:----------------:\t|\n",
    "|     &    \t|  np.bitwise_and  \t|\n",
    "|     |    \t|   np.bitwise_or  \t|\n",
    "|     ^    \t|  np.bitwise_xor  \t|\n",
    "|     ~    \t|  np.bitwise_not  \t|\n",
    "\n",
    "Like with the standard arithmetic operators, NumPy overloads *bitwise logic operators* as ufuncs which work element-wise on (usually Boolean) arrays."
   ]
  },
  {
   "cell_type": "code",
   "execution_count": 10,
   "metadata": {},
   "outputs": [
    {
     "name": "stdout",
     "output_type": "stream",
     "text": [
      "int32\n"
     ]
    },
    {
     "data": {
      "text/plain": [
       "array([[ 7,  4, 13, 11,  8],\n",
       "       [13,  5,  7, 10,  3],\n",
       "       [ 7, 11, 11,  8,  5]])"
      ]
     },
     "execution_count": 10,
     "metadata": {},
     "output_type": "execute_result"
    }
   ],
   "source": [
    "np.random.seed(42)\n",
    "x = np.random.randint(1, 15, size=(3, 5))\n",
    "print(x.dtype)\n",
    "x"
   ]
  },
  {
   "cell_type": "code",
   "execution_count": 11,
   "metadata": {},
   "outputs": [
    {
     "data": {
      "text/plain": [
       "True"
      ]
     },
     "execution_count": 11,
     "metadata": {},
     "output_type": "execute_result"
    }
   ],
   "source": [
    "# are there any value greater than 5?\n",
    "np.any(x > 5)"
   ]
  },
  {
   "cell_type": "code",
   "execution_count": 12,
   "metadata": {},
   "outputs": [
    {
     "data": {
      "text/plain": [
       "True"
      ]
     },
     "execution_count": 12,
     "metadata": {},
     "output_type": "execute_result"
    }
   ],
   "source": [
    "# are there any value equals to 7?\n",
    "np.any(x == 7)"
   ]
  },
  {
   "cell_type": "code",
   "execution_count": 13,
   "metadata": {},
   "outputs": [
    {
     "data": {
      "text/plain": [
       "array([ True,  True, False])"
      ]
     },
     "execution_count": 13,
     "metadata": {},
     "output_type": "execute_result"
    }
   ],
   "source": [
    "# are any values in each row less than 5?\n",
    "np.any(x < 5, axis=1)"
   ]
  },
  {
   "cell_type": "code",
   "execution_count": 14,
   "metadata": {},
   "outputs": [
    {
     "data": {
      "text/plain": [
       "array([[ True,  True, False, False, False],\n",
       "       [False,  True,  True, False,  True],\n",
       "       [ True, False, False, False,  True]])"
      ]
     },
     "execution_count": 14,
     "metadata": {},
     "output_type": "execute_result"
    }
   ],
   "source": [
    "x < 8"
   ]
  },
  {
   "cell_type": "code",
   "execution_count": 15,
   "metadata": {},
   "outputs": [
    {
     "data": {
      "text/plain": [
       "7"
      ]
     },
     "execution_count": 15,
     "metadata": {},
     "output_type": "execute_result"
    }
   ],
   "source": [
    "# how many values are less than 8?\n",
    "np.count_nonzero(x < 8)"
   ]
  },
  {
   "cell_type": "code",
   "execution_count": 16,
   "metadata": {},
   "outputs": [
    {
     "data": {
      "text/plain": [
       "7"
      ]
     },
     "execution_count": 16,
     "metadata": {},
     "output_type": "execute_result"
    }
   ],
   "source": [
    "# Alternate way... \n",
    "# In this case False is treated as 0 while True is treated as 1.\n",
    "np.sum(x < 8)"
   ]
  },
  {
   "cell_type": "code",
   "execution_count": 17,
   "metadata": {},
   "outputs": [
    {
     "data": {
      "text/plain": [
       "array([2, 3, 2])"
      ]
     },
     "execution_count": 17,
     "metadata": {},
     "output_type": "execute_result"
    }
   ],
   "source": [
    "# how many values are less than 8 in each row?\n",
    "np.sum(x < 8, axis=1)"
   ]
  },
  {
   "cell_type": "code",
   "execution_count": 18,
   "metadata": {},
   "outputs": [
    {
     "data": {
      "text/plain": [
       "7"
      ]
     },
     "execution_count": 18,
     "metadata": {},
     "output_type": "execute_result"
    }
   ],
   "source": [
    "# how many values less than 10 and greater than 4?\n",
    "np.sum((x > 4) & (x < 10))"
   ]
  },
  {
   "cell_type": "code",
   "execution_count": 19,
   "metadata": {},
   "outputs": [
    {
     "name": "stdout",
     "output_type": "stream",
     "text": [
      "Minimum of each column at Index: [7 4 7 8 3] [0 0 1 2 1]\n",
      "Maximum of each column at Index: [13 11 13 11  8] [1 2 0 0 0]\n",
      "Minimum of each row at Index: [4 3 5] [1 4 4]\n",
      "Maximum of each row at Index: [13 13 11] [2 0 1]\n"
     ]
    }
   ],
   "source": [
    "print(\"Minimum of each column at Index:\", x.min(axis=0), x.argmin(0))\n",
    "print(\"Maximum of each column at Index:\", x.max(axis=0), x.argmax(0))\n",
    "print(\"Minimum of each row at Index:\", x.min(axis=1), x.argmin(1))\n",
    "print(\"Maximum of each row at Index:\", x.max(axis=1), x.argmax(1))"
   ]
  },
  {
   "cell_type": "code",
   "execution_count": 20,
   "metadata": {},
   "outputs": [
    {
     "name": "stdout",
     "output_type": "stream",
     "text": [
      "index:[0 0] --> value: 7\n",
      "index:[0 1] --> value: 4\n",
      "index:[1 2] --> value: 7\n",
      "index:[1 4] --> value: 3\n",
      "index:[2 0] --> value: 7\n",
      "index:[2 3] --> value: 8\n"
     ]
    }
   ],
   "source": [
    "# Alternate way to find (all) indices... \n",
    "# Observe the difference...\n",
    "ix = np.argwhere(x == x.min(0))\n",
    "for pos in ix:\n",
    "    print(f\"index:{pos} --> value: {x[pos[0], pos[1]]}\")"
   ]
  },
  {
   "cell_type": "code",
   "execution_count": 21,
   "metadata": {},
   "outputs": [
    {
     "name": "stdout",
     "output_type": "stream",
     "text": [
      "index:[0 2] --> value: 13\n",
      "index:[0 3] --> value: 11\n",
      "index:[0 4] --> value: 8\n",
      "index:[1 0] --> value: 13\n",
      "index:[2 1] --> value: 11\n"
     ]
    }
   ],
   "source": [
    "ix = np.argwhere(x == x.max(0))\n",
    "for pos in ix:\n",
    "    print(f\"index:{pos} --> value: {x[pos[0], pos[1]]}\")"
   ]
  },
  {
   "cell_type": "markdown",
   "metadata": {},
   "source": [
    "# Boolean Arrays as Masks\n",
    "\n",
    "A more powerful pattern is to use Boolean arrays as masks, to select particular subsets of the data themselves. Returning to our `x` array from before, suppose we want an array of all values in the array that are less than, say, 8:"
   ]
  },
  {
   "cell_type": "markdown",
   "metadata": {},
   "source": [
    "Now to select these values from the array, we can simply index on this Boolean array; this is known as a **masking operation**. \n",
    "\n",
    "What is returned is a one-dimensional array filled with all the values that meet this condition; in other words, all the values in positions at which the mask array is True."
   ]
  },
  {
   "cell_type": "code",
   "execution_count": 22,
   "metadata": {},
   "outputs": [
    {
     "data": {
      "text/plain": [
       "array([7, 4, 5, 7, 3, 7, 5])"
      ]
     },
     "execution_count": 22,
     "metadata": {},
     "output_type": "execute_result"
    }
   ],
   "source": [
    "x[x < 8]"
   ]
  },
  {
   "cell_type": "code",
   "execution_count": 23,
   "metadata": {},
   "outputs": [
    {
     "data": {
      "text/plain": [
       "array([13, 11,  8, 13, 11])"
      ]
     },
     "execution_count": 23,
     "metadata": {},
     "output_type": "execute_result"
    }
   ],
   "source": [
    "x[x == x.max(0)]"
   ]
  },
  {
   "cell_type": "code",
   "execution_count": 24,
   "metadata": {},
   "outputs": [
    {
     "data": {
      "text/plain": [
       "array([7, 4, 7, 3, 7, 8])"
      ]
     },
     "execution_count": 24,
     "metadata": {},
     "output_type": "execute_result"
    }
   ],
   "source": [
    "x[x == x.min(0)]"
   ]
  },
  {
   "cell_type": "code",
   "execution_count": 25,
   "metadata": {},
   "outputs": [
    {
     "name": "stderr",
     "output_type": "stream",
     "text": [
      "c:\\python37\\lib\\site-packages\\ipykernel_launcher.py:2: DeprecationWarning: elementwise == comparison failed; this will raise an error in the future.\n",
      "  \n"
     ]
    },
    {
     "data": {
      "text/plain": [
       "array([], shape=(0, 3, 5), dtype=int32)"
      ]
     },
     "execution_count": 25,
     "metadata": {},
     "output_type": "execute_result"
    }
   ],
   "source": [
    "# broadcasting error...\n",
    "x[x == x.min(1)]"
   ]
  },
  {
   "cell_type": "code",
   "execution_count": 26,
   "metadata": {},
   "outputs": [
    {
     "data": {
      "text/plain": [
       "array([4, 3, 5])"
      ]
     },
     "execution_count": 26,
     "metadata": {},
     "output_type": "execute_result"
    }
   ],
   "source": [
    "x[x == np.c_[x.min(1)]]"
   ]
  },
  {
   "cell_type": "code",
   "execution_count": 27,
   "metadata": {},
   "outputs": [
    {
     "data": {
      "text/plain": [
       "array([13, 13, 11, 11])"
      ]
     },
     "execution_count": 27,
     "metadata": {},
     "output_type": "execute_result"
    }
   ],
   "source": [
    "x[x == np.c_[x.max(axis=1)]]"
   ]
  },
  {
   "cell_type": "markdown",
   "metadata": {},
   "source": [
    "# np.where()"
   ]
  },
  {
   "cell_type": "code",
   "execution_count": 28,
   "metadata": {},
   "outputs": [
    {
     "name": "stdout",
     "output_type": "stream",
     "text": [
      "wh: Array of row index and column index respectively\n",
      " (array([0, 0, 1, 1, 2, 2], dtype=int64), array([2, 3, 0, 3, 1, 2], dtype=int64))\n",
      "gt: Boolean array\n",
      " [[False False  True  True False]\n",
      " [ True False False  True False]\n",
      " [False  True  True False False]]\n",
      "Through masking:\n",
      " (array([0, 0, 1, 1, 2, 2], dtype=int64), array([2, 3, 0, 3, 1, 2], dtype=int64))\n"
     ]
    }
   ],
   "source": [
    "wh = np.where(x > 8)\n",
    "gt = x > 8\n",
    "a = np.where(gt)\n",
    "print(\"wh: Array of row index and column index respectively\\n\", wh)\n",
    "print(\"gt: Boolean array\\n\", gt)\n",
    "print(\"Through masking:\\n\", a)"
   ]
  },
  {
   "cell_type": "code",
   "execution_count": 29,
   "metadata": {},
   "outputs": [
    {
     "name": "stdout",
     "output_type": "stream",
     "text": [
      "x[wh]: [13 11 13 10 11 11]\n",
      "x[gt]: [13 11 13 10 11 11]\n",
      "x[a]: [13 11 13 10 11 11]\n"
     ]
    }
   ],
   "source": [
    "print(\"x[wh]:\", x[wh])\n",
    "print(\"x[gt]:\", x[gt])\n",
    "print(\"x[a]:\", x[a])"
   ]
  },
  {
   "cell_type": "code",
   "execution_count": 30,
   "metadata": {},
   "outputs": [
    {
     "name": "stdout",
     "output_type": "stream",
     "text": [
      "[[0 2]\n",
      " [0 3]\n",
      " [1 0]\n",
      " [1 3]\n",
      " [2 1]\n",
      " [2 2]]\n"
     ]
    }
   ],
   "source": [
    "ix_row, ix_col = np.where( x > 8 )\n",
    "print(np.c_[ix_row, ix_col])"
   ]
  },
  {
   "cell_type": "code",
   "execution_count": 31,
   "metadata": {},
   "outputs": [
    {
     "data": {
      "text/plain": [
       "array([7, 8, 5, 7, 7, 8, 5])"
      ]
     },
     "execution_count": 31,
     "metadata": {},
     "output_type": "execute_result"
    }
   ],
   "source": [
    "x[np.logical_and(x > 4, x < 10)]"
   ]
  },
  {
   "cell_type": "code",
   "execution_count": 32,
   "metadata": {},
   "outputs": [
    {
     "data": {
      "text/plain": [
       "array([7, 8, 5, 7, 7, 8, 5])"
      ]
     },
     "execution_count": 32,
     "metadata": {},
     "output_type": "execute_result"
    }
   ],
   "source": [
    "x[(x > 4) & (x < 10)]"
   ]
  },
  {
   "cell_type": "code",
   "execution_count": 33,
   "metadata": {},
   "outputs": [
    {
     "data": {
      "text/plain": [
       "47"
      ]
     },
     "execution_count": 33,
     "metadata": {},
     "output_type": "execute_result"
    }
   ],
   "source": [
    "# add all values less than 10 and greater than 4?\n",
    "np.sum(x[(x > 4) & (x < 10)])"
   ]
  },
  {
   "cell_type": "markdown",
   "metadata": {},
   "source": [
    "# np.newaxis\n",
    "\n",
    "The newaxis is used to increase the dimension of the existing array by one more dimension, when used once. \n",
    "\n",
    "The np.newaxis is just an alias for the Python constant `None`, which means that wherever you use np.newaxis you could also use None:\n",
    "\n",
    "Visit https://stackoverflow.com/questions/29241056/how-does-numpy-newaxis-work-and-when-to-use-it"
   ]
  },
  {
   "cell_type": "code",
   "execution_count": 34,
   "metadata": {},
   "outputs": [
    {
     "data": {
      "text/plain": [
       "array([0, 1, 2, 3, 4])"
      ]
     },
     "execution_count": 34,
     "metadata": {},
     "output_type": "execute_result"
    }
   ],
   "source": [
    "x = np.arange(5)\n",
    "x"
   ]
  },
  {
   "cell_type": "code",
   "execution_count": 35,
   "metadata": {},
   "outputs": [
    {
     "data": {
      "text/plain": [
       "(5,)"
      ]
     },
     "execution_count": 35,
     "metadata": {},
     "output_type": "execute_result"
    }
   ],
   "source": [
    "x.shape"
   ]
  },
  {
   "cell_type": "code",
   "execution_count": 36,
   "metadata": {},
   "outputs": [
    {
     "data": {
      "text/plain": [
       "array([[0, 1, 2, 3, 4]])"
      ]
     },
     "execution_count": 36,
     "metadata": {},
     "output_type": "execute_result"
    }
   ],
   "source": [
    "# make it as row vector by inserting an axis along first dimension\n",
    "row_vec = x[np.newaxis,:]  # x[None, :]\n",
    "row_vec"
   ]
  },
  {
   "cell_type": "code",
   "execution_count": 37,
   "metadata": {},
   "outputs": [
    {
     "data": {
      "text/plain": [
       "(1, 5)"
      ]
     },
     "execution_count": 37,
     "metadata": {},
     "output_type": "execute_result"
    }
   ],
   "source": [
    "row_vec.shape"
   ]
  },
  {
   "cell_type": "code",
   "execution_count": 38,
   "metadata": {},
   "outputs": [
    {
     "data": {
      "text/plain": [
       "(5, 1)"
      ]
     },
     "execution_count": 38,
     "metadata": {},
     "output_type": "execute_result"
    }
   ],
   "source": [
    "# make it as column vector by inserting an axis along second dimension\n",
    "col_vec = x[:, np.newaxis]     # x[:, None]\n",
    "col_vec.shape"
   ]
  },
  {
   "cell_type": "markdown",
   "metadata": {},
   "source": [
    "# Sorting in NumPy: np.sort and np.argsort"
   ]
  },
  {
   "cell_type": "code",
   "execution_count": 39,
   "metadata": {},
   "outputs": [
    {
     "data": {
      "text/plain": [
       "array([ 7,  4, 13, 11,  8, 13,  5,  7])"
      ]
     },
     "execution_count": 39,
     "metadata": {},
     "output_type": "execute_result"
    }
   ],
   "source": [
    "np.random.seed(42)\n",
    "x = np.random.randint(1, 15, size=8)\n",
    "x"
   ]
  },
  {
   "cell_type": "code",
   "execution_count": 40,
   "metadata": {},
   "outputs": [
    {
     "data": {
      "text/plain": [
       "array([ 4,  5,  7,  7,  8, 11, 13, 13])"
      ]
     },
     "execution_count": 40,
     "metadata": {},
     "output_type": "execute_result"
    }
   ],
   "source": [
    "np.sort(x)"
   ]
  },
  {
   "cell_type": "code",
   "execution_count": 41,
   "metadata": {},
   "outputs": [
    {
     "name": "stdout",
     "output_type": "stream",
     "text": [
      "[ 4  5  7  7  8 11 13 13]\n"
     ]
    }
   ],
   "source": [
    "x.sort()\n",
    "print(x)"
   ]
  },
  {
   "cell_type": "markdown",
   "metadata": {},
   "source": [
    "A related function is argsort, which instead returns the indices of the sorted elements.\n",
    "\n",
    "The first element of this result gives the index of the smallest element, the second value gives the index of the second smallest, and so on. These indices can then be used (via fancy indexing) to construct the sorted array if desired:"
   ]
  },
  {
   "cell_type": "code",
   "execution_count": 42,
   "metadata": {},
   "outputs": [
    {
     "data": {
      "text/plain": [
       "array([10,  3,  7, 11, 11,  8,  5,  4])"
      ]
     },
     "execution_count": 42,
     "metadata": {},
     "output_type": "execute_result"
    }
   ],
   "source": [
    "x = np.random.randint(1, 15, size=8)\n",
    "x"
   ]
  },
  {
   "cell_type": "code",
   "execution_count": 43,
   "metadata": {},
   "outputs": [
    {
     "data": {
      "text/plain": [
       "array([1, 7, 6, 2, 5, 0, 3, 4], dtype=int64)"
      ]
     },
     "execution_count": 43,
     "metadata": {},
     "output_type": "execute_result"
    }
   ],
   "source": [
    "ix = np.argsort(x)\n",
    "ix"
   ]
  },
  {
   "cell_type": "code",
   "execution_count": 44,
   "metadata": {},
   "outputs": [
    {
     "data": {
      "text/plain": [
       "array([ 3,  4,  5,  7,  8, 10, 11, 11])"
      ]
     },
     "execution_count": 44,
     "metadata": {},
     "output_type": "execute_result"
    }
   ],
   "source": [
    "x[ix]"
   ]
  },
  {
   "cell_type": "markdown",
   "metadata": {},
   "source": [
    "# Sorting along rows or columns"
   ]
  },
  {
   "cell_type": "code",
   "execution_count": 45,
   "metadata": {},
   "outputs": [
    {
     "data": {
      "text/plain": [
       "array([[ 9,  9,  4,  8,  8,  1],\n",
       "       [ 5,  3,  6,  3,  3,  3],\n",
       "       [ 2,  1,  9,  5,  1, 10],\n",
       "       [ 7,  3,  5,  2,  6,  4]])"
      ]
     },
     "execution_count": 45,
     "metadata": {},
     "output_type": "execute_result"
    }
   ],
   "source": [
    "rand = np.random.RandomState(100)\n",
    "X = rand.randint(1, 11, (4, 6))\n",
    "X"
   ]
  },
  {
   "cell_type": "code",
   "execution_count": 46,
   "metadata": {},
   "outputs": [
    {
     "data": {
      "text/plain": [
       "array([[ 2,  1,  4,  2,  1,  1],\n",
       "       [ 5,  3,  5,  3,  3,  3],\n",
       "       [ 7,  3,  6,  5,  6,  4],\n",
       "       [ 9,  9,  9,  8,  8, 10]])"
      ]
     },
     "execution_count": 46,
     "metadata": {},
     "output_type": "execute_result"
    }
   ],
   "source": [
    "# sort each column of X\n",
    "np.sort(X, axis=0)"
   ]
  },
  {
   "cell_type": "code",
   "execution_count": 47,
   "metadata": {},
   "outputs": [
    {
     "data": {
      "text/plain": [
       "array([[ 1,  4,  8,  8,  9,  9],\n",
       "       [ 3,  3,  3,  3,  5,  6],\n",
       "       [ 1,  1,  2,  5,  9, 10],\n",
       "       [ 2,  3,  4,  5,  6,  7]])"
      ]
     },
     "execution_count": 47,
     "metadata": {},
     "output_type": "execute_result"
    }
   ],
   "source": [
    "# sort each row of X\n",
    "np.sort(X, axis=1)"
   ]
  },
  {
   "cell_type": "markdown",
   "metadata": {},
   "source": [
    "# Partial Sorts: Partitioning\n",
    "\n",
    "NumPy provides `np.partition` function that takes an array and a number K; the gives a new array with the smallest K values to the left of the partition, and the remaining values to the right, in arbitrary order."
   ]
  },
  {
   "cell_type": "code",
   "execution_count": 48,
   "metadata": {},
   "outputs": [
    {
     "data": {
      "text/plain": [
       "array([7, 4, 8, 5, 7, 3])"
      ]
     },
     "execution_count": 48,
     "metadata": {},
     "output_type": "execute_result"
    }
   ],
   "source": [
    "rand = np.random.RandomState(42)\n",
    "x = rand.randint(1, 10, 6)\n",
    "x"
   ]
  },
  {
   "cell_type": "code",
   "execution_count": 49,
   "metadata": {},
   "outputs": [
    {
     "data": {
      "text/plain": [
       "array([5, 3, 4, 7, 7, 8])"
      ]
     },
     "execution_count": 49,
     "metadata": {},
     "output_type": "execute_result"
    }
   ],
   "source": [
    "np.partition(x, 3)"
   ]
  },
  {
   "cell_type": "code",
   "execution_count": 50,
   "metadata": {},
   "outputs": [
    {
     "data": {
      "text/plain": [
       "array([[ 1,  4,  8,  9,  8,  9],\n",
       "       [ 3,  3,  3,  5,  6,  3],\n",
       "       [ 1,  1,  2,  5,  9, 10],\n",
       "       [ 2,  3,  4,  7,  6,  5]])"
      ]
     },
     "execution_count": 50,
     "metadata": {},
     "output_type": "execute_result"
    }
   ],
   "source": [
    "np.partition(X, 2, axis=1)"
   ]
  }
 ],
 "metadata": {
  "kernelspec": {
   "display_name": "Python 3",
   "language": "python",
   "name": "python3"
  },
  "language_info": {
   "codemirror_mode": {
    "name": "ipython",
    "version": 3
   },
   "file_extension": ".py",
   "mimetype": "text/x-python",
   "name": "python",
   "nbconvert_exporter": "python",
   "pygments_lexer": "ipython3",
   "version": "3.7.9"
  }
 },
 "nbformat": 4,
 "nbformat_minor": 4
}
