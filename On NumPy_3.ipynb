{
 "cells": [
  {
   "cell_type": "code",
   "execution_count": 1,
   "metadata": {},
   "outputs": [
    {
     "data": {
      "text/plain": [
       "uname_result(system='Windows', node='Laptop_HSoni', release='10', version='10.0.17134', machine='AMD64', processor='Intel64 Family 6 Model 37 Stepping 5, GenuineIntel')"
      ]
     },
     "execution_count": 1,
     "metadata": {},
     "output_type": "execute_result"
    }
   ],
   "source": [
    "import platform\n",
    "platform.uname()"
   ]
  },
  {
   "cell_type": "code",
   "execution_count": 2,
   "metadata": {},
   "outputs": [
    {
     "data": {
      "text/plain": [
       "'3.7.2'"
      ]
     },
     "execution_count": 2,
     "metadata": {},
     "output_type": "execute_result"
    }
   ],
   "source": [
    "platform.python_version()"
   ]
  },
  {
   "cell_type": "code",
   "execution_count": 3,
   "metadata": {},
   "outputs": [
    {
     "name": "stdout",
     "output_type": "stream",
     "text": [
      "NumPy Version: 1.15.4\n"
     ]
    }
   ],
   "source": [
    "import numpy as np\n",
    "print(\"NumPy Version:\",np.__version__)"
   ]
  },
  {
   "cell_type": "markdown",
   "metadata": {},
   "source": [
    "# NumPy Array Operations\n",
    "\n",
    "Loops over array elements should be avoided as this is computationally inefficient. Instead, NumPy offers lots of efficient functions that operate on the whole array at once."
   ]
  },
  {
   "cell_type": "code",
   "execution_count": 4,
   "metadata": {},
   "outputs": [
    {
     "data": {
      "text/plain": [
       "numpy.ndarray"
      ]
     },
     "execution_count": 4,
     "metadata": {},
     "output_type": "execute_result"
    }
   ],
   "source": [
    "my_list = [2, 10, 8, 14]\n",
    "x = np.asarray(my_list)\n",
    "type(x)"
   ]
  },
  {
   "cell_type": "markdown",
   "metadata": {},
   "source": [
    "Let's do some addition, subtraction, multiplication, and division with scalar values:"
   ]
  },
  {
   "cell_type": "code",
   "execution_count": 5,
   "metadata": {},
   "outputs": [
    {
     "name": "stdout",
     "output_type": "stream",
     "text": [
      "x  =  [ 2 10  8 14]\n",
      "x + 3.5 =  [ 5.5 13.5 11.5 17.5]\n",
      "x - 3.5 =  [-1.5  6.5  4.5 10.5]\n",
      "x * 2 = [ 4 20 16 28]\n",
      "x / 2 = [1. 5. 4. 7.]\n",
      "x // 2 = [1 5 4 7]\n",
      "x ** 2 = [  4 100  64 196]\n"
     ]
    }
   ],
   "source": [
    "print(\"x  = \",x)\n",
    "print(\"x + 3.5 = \", x + 3.5)\n",
    "print(\"x - 3.5 = \", x - 3.5)\n",
    "print(\"x * 2 =\", x * 2)\n",
    "print(\"x / 2 =\", x / 2)\n",
    "print(\"x // 2 =\", x // 2) # floor division\n",
    "print(\"x ** 2 =\", x ** 2) # exponentiation (power)"
   ]
  },
  {
   "cell_type": "code",
   "execution_count": 6,
   "metadata": {},
   "outputs": [
    {
     "data": {
      "text/plain": [
       "array([  4, 100,  64, 196], dtype=int32)"
      ]
     },
     "execution_count": 6,
     "metadata": {},
     "output_type": "execute_result"
    }
   ],
   "source": [
    "x ** 2"
   ]
  },
  {
   "cell_type": "code",
   "execution_count": 7,
   "metadata": {},
   "outputs": [
    {
     "name": "stdout",
     "output_type": "stream",
     "text": [
      "-x =  [ -2 -10  -8 -14]\n",
      "x % 3 =  [2 1 2 2]\n"
     ]
    }
   ],
   "source": [
    "print(\"-x = \", -x)\n",
    "print(\"x % 3 = \", x % 3)"
   ]
  },
  {
   "cell_type": "code",
   "execution_count": 8,
   "metadata": {},
   "outputs": [
    {
     "data": {
      "text/plain": [
       "array([4, 5, 6, 7])"
      ]
     },
     "execution_count": 8,
     "metadata": {},
     "output_type": "execute_result"
    }
   ],
   "source": [
    "y = np.r_[1:5] + 3\n",
    "y "
   ]
  },
  {
   "cell_type": "code",
   "execution_count": 9,
   "metadata": {},
   "outputs": [
    {
     "name": "stdout",
     "output_type": "stream",
     "text": [
      "x + y =  [ 6 15 14 21]\n",
      "x - y =  [-2  5  2  7]\n",
      "x * y = [ 8 50 48 98]\n",
      "x / y = [0.5        2.         1.33333333 2.        ]\n",
      "x // y = [0 2 1 2]\n"
     ]
    }
   ],
   "source": [
    "print(\"x + y = \", x + y)\n",
    "print(\"x - y = \", x - y)\n",
    "print(\"x * y =\", x * y)\n",
    "print(\"x / y =\", x / y)\n",
    "print(\"x // y =\", x // y) # floor division"
   ]
  },
  {
   "cell_type": "code",
   "execution_count": 10,
   "metadata": {},
   "outputs": [
    {
     "data": {
      "text/plain": [
       "array([2, 0, 0, 0], dtype=int32)"
      ]
     },
     "execution_count": 10,
     "metadata": {},
     "output_type": "execute_result"
    }
   ],
   "source": [
    "y // x"
   ]
  },
  {
   "cell_type": "code",
   "execution_count": 11,
   "metadata": {},
   "outputs": [
    {
     "data": {
      "text/plain": [
       "array([ -4., -36., -25., -64.])"
      ]
     },
     "execution_count": 11,
     "metadata": {},
     "output_type": "execute_result"
    }
   ],
   "source": [
    "# strung together\n",
    "-(0.5*x + 1) ** 2"
   ]
  },
  {
   "cell_type": "markdown",
   "metadata": {},
   "source": [
    "# Working with Multidimensional Arrays"
   ]
  },
  {
   "cell_type": "code",
   "execution_count": 12,
   "metadata": {},
   "outputs": [
    {
     "name": "stdout",
     "output_type": "stream",
     "text": [
      "[[ 1 18 16  2]\n",
      " [ 9  6 12  4]\n",
      " [19 17 14  3]\n",
      " [10 20  5 13]\n",
      " [ 8 11 15  7]]\n",
      "[[20 17 16  6]\n",
      " [ 5 13 15  8]\n",
      " [ 4  7  3 10]\n",
      " [14 11 19  9]\n",
      " [18 12  1  2]]\n"
     ]
    }
   ],
   "source": [
    "x = np.arange(1, 21)\n",
    "y = np.arange(1, 21)\n",
    "np.random.seed(42)\n",
    "np.random.shuffle(x)\n",
    "np.random.shuffle(y)\n",
    "x.shape = 5, 4\n",
    "y.shape = 5, 4\n",
    "print(x)\n",
    "print(y)"
   ]
  },
  {
   "cell_type": "code",
   "execution_count": 13,
   "metadata": {},
   "outputs": [
    {
     "name": "stdout",
     "output_type": "stream",
     "text": [
      "x + y = \n",
      " [[21 35 32  8]\n",
      " [14 19 27 12]\n",
      " [23 24 17 13]\n",
      " [24 31 24 22]\n",
      " [26 23 16  9]]\n",
      "x - y = \n",
      " [[-19   1   0  -4]\n",
      " [  4  -7  -3  -4]\n",
      " [ 15  10  11  -7]\n",
      " [ -4   9 -14   4]\n",
      " [-10  -1  14   5]]\n",
      "x * y = \n",
      " [[ 20 306 256  12]\n",
      " [ 45  78 180  32]\n",
      " [ 76 119  42  30]\n",
      " [140 220  95 117]\n",
      " [144 132  15  14]]\n",
      "x / y = \n",
      " [[ 0.05        1.05882353  1.          0.33333333]\n",
      " [ 1.8         0.46153846  0.8         0.5       ]\n",
      " [ 4.75        2.42857143  4.66666667  0.3       ]\n",
      " [ 0.71428571  1.81818182  0.26315789  1.44444444]\n",
      " [ 0.44444444  0.91666667 15.          3.5       ]]\n"
     ]
    }
   ],
   "source": [
    "print(\"x + y = \\n\", x + y)\n",
    "print(\"x - y = \\n\", x - y)\n",
    "print(\"x * y = \\n\", x * y)\n",
    "print(\"x / y = \\n\", x / y)"
   ]
  },
  {
   "cell_type": "markdown",
   "metadata": {},
   "source": [
    "## Vector Products\n",
    "\n",
    "The **dot** or **inner product** c = **a · b** of the vectors $a$ and $b$, each of size *m*, is defined as the scalar\n",
    "\n",
    "\\begin{equation}\n",
    "c=\\sum\\limits_{k=1}^{m}{{{a}_{k}}{{b}_{k}}}\n",
    "\\end{equation}\n",
    "\n",
    "It can also be written in the form $c = a^{T}b$. \n",
    "\n",
    "In NumPy the function for the dot product is **`dot(a,b)`** or **`inner(a,b)`**.\n",
    "\n",
    "The outer product $c=a\\otimes b$ is defined as the matrix\n",
    "\n",
    "\\begin{equation}\n",
    "c_{ij}={{a}_{ij}}{{b}_{ij}}\n",
    "\\end{equation}\n",
    "\n",
    "An alternative notation is $c = ab^{T}$.\n",
    "\n",
    "The NumPy function for the outer product is **`outer(a,b)`**."
   ]
  },
  {
   "cell_type": "code",
   "execution_count": 14,
   "metadata": {},
   "outputs": [],
   "source": [
    "x = np.array([7, 3])\n",
    "y = np.array([2, 1])\n",
    "A = np.array([[1, 2], [3, 2]])\n",
    "B = np.array([[1, 1], [2, 2]])"
   ]
  },
  {
   "cell_type": "code",
   "execution_count": 15,
   "metadata": {},
   "outputs": [
    {
     "name": "stdout",
     "output_type": "stream",
     "text": [
      "dot(x,y) =\n",
      " 17\n",
      "dot(A,x) =\n",
      " [13 27]\n",
      "dot(A,B) =\n",
      " [[5 5]\n",
      " [7 7]]\n"
     ]
    }
   ],
   "source": [
    "# Dot product\n",
    "print(\"dot(x,y) =\\n\",np.dot(x,y)) # {x}.{y}\n",
    "print(\"dot(A,x) =\\n\",np.dot(A,x)) # [A]{x}\n",
    "print(\"dot(A,B) =\\n\",np.dot(A,B)) # [A][B]"
   ]
  },
  {
   "cell_type": "code",
   "execution_count": 16,
   "metadata": {},
   "outputs": [
    {
     "name": "stdout",
     "output_type": "stream",
     "text": [
      "inner(x,y) =\n",
      " 17\n",
      "inner(A,x) =\n",
      " [13 27]\n",
      "inner(A,B) =\n",
      " [[ 3  6]\n",
      " [ 5 10]]\n"
     ]
    }
   ],
   "source": [
    "# Inner product\n",
    "print(\"inner(x,y) =\\n\",np.inner(x,y)) # {x}.{y}\n",
    "print(\"inner(A,x) =\\n\",np.inner(A,x)) # [A]{x}\n",
    "print(\"inner(A,B) =\\n\",np.inner(A,B)) # [A][B_transpose]"
   ]
  },
  {
   "cell_type": "code",
   "execution_count": 17,
   "metadata": {},
   "outputs": [
    {
     "name": "stdout",
     "output_type": "stream",
     "text": [
      "outer(x,y) =\n",
      " [[14  7]\n",
      " [ 6  3]]\n",
      "outer(A,x) =\n",
      " [[ 7  3]\n",
      " [14  6]\n",
      " [21  9]\n",
      " [14  6]]\n",
      "outer(A,B) =\n",
      " [[1 1 2 2]\n",
      " [2 2 4 4]\n",
      " [3 3 6 6]\n",
      " [2 2 4 4]]\n"
     ]
    }
   ],
   "source": [
    "# Outer product\n",
    "print(\"outer(x,y) =\\n\",np.outer(x,y))\n",
    "print(\"outer(A,x) =\\n\",np.outer(A,x))\n",
    "print(\"outer(A,B) =\\n\",np.outer(A,B))"
   ]
  },
  {
   "cell_type": "markdown",
   "metadata": {},
   "source": [
    "## Specifying output\n",
    "\n",
    "For large calculations, it is sometimes useful to be able to specify the array where the result of the calculation will be stored. Rather than creating a temporary array, you can use this to write computation results directly to the memory location where you’d like them to be. "
   ]
  },
  {
   "cell_type": "code",
   "execution_count": 18,
   "metadata": {},
   "outputs": [
    {
     "data": {
      "text/plain": [
       "array([10, 20, 30, 40, 50])"
      ]
     },
     "execution_count": 18,
     "metadata": {},
     "output_type": "execute_result"
    }
   ],
   "source": [
    "x = np.r_[1:6]\n",
    "y = np.zeros(x.shape,dtype=x.dtype)\n",
    "# y = np.empty(x.shape)\n",
    "np.multiply(x, 10, out=y)"
   ]
  },
  {
   "cell_type": "code",
   "execution_count": 19,
   "metadata": {},
   "outputs": [
    {
     "name": "stdout",
     "output_type": "stream",
     "text": [
      "[10 20 30 40 50]\n"
     ]
    }
   ],
   "source": [
    "print(y)"
   ]
  },
  {
   "cell_type": "code",
   "execution_count": 20,
   "metadata": {},
   "outputs": [
    {
     "data": {
      "text/plain": [
       "array([ 2,  4,  8, 16, 32])"
      ]
     },
     "execution_count": 20,
     "metadata": {},
     "output_type": "execute_result"
    }
   ],
   "source": [
    "y = np.zeros(10,dtype=x.dtype)\n",
    "np.power(2, x, out=y[::2])"
   ]
  },
  {
   "cell_type": "code",
   "execution_count": 21,
   "metadata": {},
   "outputs": [
    {
     "name": "stdout",
     "output_type": "stream",
     "text": [
      "[ 2  0  4  0  8  0 16  0 32  0]\n"
     ]
    }
   ],
   "source": [
    "print(y)"
   ]
  },
  {
   "cell_type": "markdown",
   "metadata": {},
   "source": [
    "If we had instead written `y[::2] = 2 ** x`, this would have resulted in the creation of a temporary array to hold the results of `2 ** x`, followed by a second operation copying those values into the `y` array. This doesn’t make much of a difference for such a small computation, but for very large arrays the memory savings from careful use of the out argument can be significant."
   ]
  },
  {
   "cell_type": "markdown",
   "metadata": {},
   "source": [
    "## Broadcasting\n",
    "\n",
    "Broadcasting allows binary operations (addition, subtraction, multiplication, etc.) to be performed on arrays of different sizes."
   ]
  },
  {
   "cell_type": "code",
   "execution_count": 22,
   "metadata": {},
   "outputs": [
    {
     "data": {
      "text/plain": [
       "array([[1., 1., 1.],\n",
       "       [1., 1., 1.],\n",
       "       [1., 1., 1.]])"
      ]
     },
     "execution_count": 22,
     "metadata": {},
     "output_type": "execute_result"
    }
   ],
   "source": [
    "x = np.ones((3, 3))\n",
    "x"
   ]
  },
  {
   "cell_type": "code",
   "execution_count": 23,
   "metadata": {},
   "outputs": [
    {
     "data": {
      "text/plain": [
       "array([0, 1, 2])"
      ]
     },
     "execution_count": 23,
     "metadata": {},
     "output_type": "execute_result"
    }
   ],
   "source": [
    "y = np.r_[0:3]\n",
    "y"
   ]
  },
  {
   "cell_type": "code",
   "execution_count": 24,
   "metadata": {},
   "outputs": [
    {
     "data": {
      "text/plain": [
       "array([[1., 2., 3.],\n",
       "       [1., 2., 3.],\n",
       "       [1., 2., 3.]])"
      ]
     },
     "execution_count": 24,
     "metadata": {},
     "output_type": "execute_result"
    }
   ],
   "source": [
    "x + y"
   ]
  },
  {
   "cell_type": "markdown",
   "metadata": {},
   "source": [
    "Here the one-dimensional array `y` is stretched, or broadcast, across the second dimension in order to match the shape of `x`."
   ]
  },
  {
   "cell_type": "code",
   "execution_count": 25,
   "metadata": {},
   "outputs": [
    {
     "data": {
      "text/plain": [
       "array([[0., 1., 2.],\n",
       "       [0., 1., 2.],\n",
       "       [0., 1., 2.]])"
      ]
     },
     "execution_count": 25,
     "metadata": {},
     "output_type": "execute_result"
    }
   ],
   "source": [
    "x*y"
   ]
  },
  {
   "cell_type": "markdown",
   "metadata": {},
   "source": [
    "## Use Case:\n",
    "\n",
    "Imagine you are dealing with data having 10 instances (observations) with three attributes (variables). We will store in a $10 \\times 3$ array:"
   ]
  },
  {
   "cell_type": "code",
   "execution_count": 26,
   "metadata": {},
   "outputs": [
    {
     "data": {
      "text/plain": [
       "array([[ 9, 39, 18],\n",
       "       [ 4, 25, 14],\n",
       "       [ 9, 26,  2],\n",
       "       [20, 28, 47],\n",
       "       [ 7, 44,  8],\n",
       "       [47, 35, 14],\n",
       "       [17, 36, 40],\n",
       "       [ 4,  2,  6],\n",
       "       [42,  4, 29],\n",
       "       [18, 26, 44]])"
      ]
     },
     "execution_count": 26,
     "metadata": {},
     "output_type": "execute_result"
    }
   ],
   "source": [
    "X = np.random.randint(1, 50,(10, 3))\n",
    "X"
   ]
  },
  {
   "cell_type": "code",
   "execution_count": 27,
   "metadata": {},
   "outputs": [
    {
     "data": {
      "text/plain": [
       "array([17.7, 26.5, 22.2])"
      ]
     },
     "execution_count": 27,
     "metadata": {},
     "output_type": "execute_result"
    }
   ],
   "source": [
    "Xmean = X.mean(axis=0) # mean of each column\n",
    "# Xmean = X.mean(0)\n",
    "Xmean"
   ]
  },
  {
   "cell_type": "markdown",
   "metadata": {},
   "source": [
    "And now we can center the `X` array by subtracting the mean (this is a broadcasting operation):"
   ]
  },
  {
   "cell_type": "code",
   "execution_count": 28,
   "metadata": {},
   "outputs": [
    {
     "data": {
      "text/plain": [
       "array([[ -8.7,  12.5,  -4.2],\n",
       "       [-13.7,  -1.5,  -8.2],\n",
       "       [ -8.7,  -0.5, -20.2],\n",
       "       [  2.3,   1.5,  24.8],\n",
       "       [-10.7,  17.5, -14.2],\n",
       "       [ 29.3,   8.5,  -8.2],\n",
       "       [ -0.7,   9.5,  17.8],\n",
       "       [-13.7, -24.5, -16.2],\n",
       "       [ 24.3, -22.5,   6.8],\n",
       "       [  0.3,  -0.5,  21.8]])"
      ]
     },
     "execution_count": 28,
     "metadata": {},
     "output_type": "execute_result"
    }
   ],
   "source": [
    "X_centered = X - Xmean\n",
    "X_centered"
   ]
  },
  {
   "cell_type": "markdown",
   "metadata": {},
   "source": [
    "**Fact:** $\\sum{\\left( X-\\overline{X} \\right)}=0$. Let's verify this fact. "
   ]
  },
  {
   "cell_type": "code",
   "execution_count": 29,
   "metadata": {},
   "outputs": [
    {
     "data": {
      "text/plain": [
       "array([0., 0., 0.])"
      ]
     },
     "execution_count": 29,
     "metadata": {},
     "output_type": "execute_result"
    }
   ],
   "source": [
    "np.round_(X_centered.sum(0))"
   ]
  }
 ],
 "metadata": {
  "kernelspec": {
   "display_name": "Python 3",
   "language": "python",
   "name": "python3"
  },
  "language_info": {
   "codemirror_mode": {
    "name": "ipython",
    "version": 3
   },
   "file_extension": ".py",
   "mimetype": "text/x-python",
   "name": "python",
   "nbconvert_exporter": "python",
   "pygments_lexer": "ipython3",
   "version": "3.7.9"
  }
 },
 "nbformat": 4,
 "nbformat_minor": 4
}
